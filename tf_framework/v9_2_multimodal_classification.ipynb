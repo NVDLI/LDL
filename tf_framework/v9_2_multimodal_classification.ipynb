{
 "cells": [
  {
   "cell_type": "code",
   "execution_count": null,
   "metadata": {},
   "outputs": [],
   "source": [
    "\"\"\"\n",
    "The MIT License (MIT)\n",
    "Copyright (c) 2021 NVIDIA\n",
    "Permission is hereby granted, free of charge, to any person obtaining a copy of\n",
    "this software and associated documentation files (the \"Software\"), to deal in\n",
    "the Software without restriction, including without limitation the rights to\n",
    "use, copy, modify, merge, publish, distribute, sublicense, and/or sell copies of\n",
    "the Software, and to permit persons to whom the Software is furnished to do so,\n",
    "subject to the following conditions:\n",
    "The above copyright notice and this permission notice shall be included in all\n",
    "copies or substantial portions of the Software.\n",
    "THE SOFTWARE IS PROVIDED \"AS IS\", WITHOUT WARRANTY OF ANY KIND, EXPRESS OR\n",
    "IMPLIED, INCLUDING BUT NOT LIMITED TO THE WARRANTIES OF MERCHANTABILITY, FITNESS\n",
    "FOR A PARTICULAR PURPOSE AND NONINFRINGEMENT. IN NO EVENT SHALL THE AUTHORS OR\n",
    "COPYRIGHT HOLDERS BE LIABLE FOR ANY CLAIM, DAMAGES OR OTHER LIABILITY, WHETHER\n",
    "IN AN ACTION OF CONTRACT, TORT OR OTHERWISE, ARISING FROM, OUT OF OR IN\n",
    "CONNECTION WITH THE SOFTWARE OR THE USE OR OTHER DEALINGS IN THE SOFTWARE.\n",
    "\"\"\"\n"
   ]
  },
  {
   "cell_type": "markdown",
   "metadata": {},
   "source": [
    "This code example demonstrates how to train a classifier, using two input modalities. We use the MNIST dataset but in addition to the image modality, we also create a textual modality. More context for this code example can be found in video 9.2 \"Programming Example: Multimodal Classification with TensorFlow\" in the video series \"Learning Deep Learning: From Perceptron to Large Language Models\" by Magnus Ekman (Video ISBN-13: 9780138177614).\n",
    "\n",
    "We start with initialization code and loading and standardizing the MNIST dataset in the code snippet below.\n"
   ]
  },
  {
   "cell_type": "code",
   "execution_count": null,
   "metadata": {},
   "outputs": [],
   "source": [
    "import tensorflow as tf\n",
    "from tensorflow import keras\n",
    "from tensorflow.keras.utils import to_categorical\n",
    "from tensorflow.keras.preprocessing.text import Tokenizer\n",
    "from tensorflow.keras.preprocessing.text \\\n",
    "    import text_to_word_sequence\n",
    "from tensorflow.keras.preprocessing.sequence \\\n",
    "    import pad_sequences\n",
    "from tensorflow.keras.layers import Input\n",
    "from tensorflow.keras.layers import Embedding\n",
    "from tensorflow.keras.layers import LSTM\n",
    "from tensorflow.keras.layers import Flatten\n",
    "from tensorflow.keras.layers import Concatenate\n",
    "from tensorflow.keras.layers import Dense\n",
    "from tensorflow.keras.models import Model\n",
    "import numpy as np\n",
    "import matplotlib.pyplot as plt\n",
    "import logging\n",
    "tf.get_logger().setLevel(logging.ERROR)\n",
    "\n",
    "EPOCHS = 20\n",
    "MAX_WORDS = 8\n",
    "EMBEDDING_WIDTH = 4\n",
    "\n",
    "# Load training and test datasets.\n",
    "mnist = keras.datasets.mnist\n",
    "(train_images, train_labels), (test_images,\n",
    "                               test_labels) = mnist.load_data()\n",
    "\n",
    "# Standardize the data.\n",
    "mean = np.mean(train_images)\n",
    "stddev = np.std(train_images)\n",
    "train_images = (train_images - mean) / stddev\n",
    "test_images = (test_images - mean) / stddev\n"
   ]
  },
  {
   "cell_type": "markdown",
   "metadata": {},
   "source": [
    "The code snippet below creates the second input modality, which is a textual representation of each input example. To not make it too easy for the network, this textual view of the data is not complete but gives only partial information about the digit. For each training and test example, we alternate between specifying that the digit is odd or even and specifying that it is a high or low number. The textual modality created in this code snippet does not fully define what digit it is but can be helpful when an image is ambiguous.\n"
   ]
  },
  {
   "cell_type": "code",
   "execution_count": null,
   "metadata": {},
   "outputs": [],
   "source": [
    "# Function to create second modality.\n",
    "def create_text(tokenizer, labels):\n",
    "    text = []\n",
    "    for i, label in enumerate(labels):\n",
    "        if i % 2 == 0:\n",
    "            if label < 5:\n",
    "                text.append('lower half')\n",
    "            else:\n",
    "                text.append('upper half')\n",
    "        else:\n",
    "            if label % 2 == 0:\n",
    "                text.append('even number')\n",
    "            else:\n",
    "                text.append('odd number')\n",
    "    text = tokenizer.texts_to_sequences(text)\n",
    "    text = pad_sequences(text)\n",
    "    return text\n",
    "\n",
    "# Create second modality for training and test set.\n",
    "vocabulary = ['lower', 'upper', 'half', 'even', 'odd', 'number']\n",
    "tokenizer = Tokenizer(num_words=MAX_WORDS)\n",
    "tokenizer.fit_on_texts(vocabulary)\n",
    "train_text = create_text(tokenizer, train_labels)\n",
    "test_text = create_text(tokenizer, test_labels)\n"
   ]
  },
  {
   "cell_type": "code",
   "execution_count": null,
   "metadata": {},
   "outputs": [],
   "source": [
    "print(tokenizer.sequences_to_texts(test_text)[0:5])\n",
    "print(test_labels[0:5])\n"
   ]
  },
  {
   "cell_type": "markdown",
   "metadata": {},
   "source": [
    "The image classification network is similar to the example v3_5_digit_classification but with an additional subnetwork that processes the textual input. This subnetwork consists of an Embedding layer and an LSTM layer. The output of the LSTM layer is concatenated with the image input and fed to a fully connected layer. This layer is followed by the final fully connected softmax layer that produces the classification. The implementation is shown below."
   ]
  },
  {
   "cell_type": "code",
   "execution_count": null,
   "metadata": {},
   "outputs": [],
   "source": [
    "# Create model with functional API.\n",
    "image_input = Input(shape=(28, 28))\n",
    "text_input = Input(shape=(2, ))\n",
    "\n",
    "# Declare layers.\n",
    "embedding_layer = Embedding(output_dim=EMBEDDING_WIDTH,\n",
    "                            input_dim = MAX_WORDS)\n",
    "lstm_layer = LSTM(8)\n",
    "flatten_layer = Flatten()\n",
    "concat_layer = Concatenate()\n",
    "dense_layer = Dense(25,activation='relu')\n",
    "output_layer = Dense(10, activation='softmax')\n",
    "\n",
    "# Connect layers.\n",
    "embedding_output = embedding_layer(text_input)\n",
    "lstm_output = lstm_layer(embedding_output)\n",
    "flatten_output = flatten_layer(image_input)\n",
    "concat_output = concat_layer([lstm_output, flatten_output])\n",
    "dense_output = dense_layer(concat_output)\n",
    "outputs = output_layer(dense_output)\n",
    "\n",
    "# Build and train model.\n",
    "model = Model([image_input, text_input], outputs)\n",
    "model.compile(loss='sparse_categorical_crossentropy',\n",
    "              optimizer='adam', metrics =['accuracy'])\n",
    "model.summary()\n",
    "history = model.fit([train_images, train_text], train_labels,\n",
    "                    validation_data=([test_images, test_text],\n",
    "                                     test_labels), epochs=EPOCHS,\n",
    "                    batch_size=64, verbose=2, shuffle=True)\n"
   ]
  },
  {
   "cell_type": "markdown",
   "metadata": {},
   "source": [
    "To illustrate the effect of using the two input modalities, we do an experiment in the code snippet below. We first show all the information about a given test example. It turns out to be the digit 7, and the textual description was 'upper half'. We then use the network to make a prediction, given this image and textual description as input. We print out digits and predicted probabilities, sorted on the basis of the probabilities. The expected result is that the network correctly predicts the digit as a 7.\n",
    "\n",
    "As a next step, we do another prediction, but this time we change the textual input to indicate 'lower half'. Looking at the probabilities, the probabilities for the high digits should now have decreased. The exact result varies, but in many cases, the probabilities changes enough so the prediction from the network changes from a 7 to a 3. This illustrates that the network has learned to take both the image and the textual description into account.\n"
   ]
  },
  {
   "cell_type": "code",
   "execution_count": null,
   "metadata": {},
   "outputs": [],
   "source": [
    "# Print input modalities and output for one test example.\n",
    "print(test_labels[0])\n",
    "print(tokenizer.sequences_to_texts([test_text[0]]))\n",
    "plt.figure(figsize=(1, 1))\n",
    "plt.imshow(test_images[0], cmap=plt.get_cmap('gray'))\n",
    "plt.show()\n",
    "\n",
    "# Predict test example.\n",
    "y = model.predict([test_images[0:1], np.array(\n",
    "    tokenizer.texts_to_sequences(['upper half']))])[0] #7\n",
    "print('Predictions with correct input:')\n",
    "for i in range(len(y)):\n",
    "    index = y.argmax()\n",
    "    print('Digit: %d,' %index, 'probability: %5.2e' %y[index])\n",
    "    y[index] = 0\n",
    "\n",
    "# Predict same test example but with modified textual description.\n",
    "print('\\nPredictions with incorrect input:')\n",
    "y = model.predict([test_images[0:1], np.array(\n",
    "    tokenizer.texts_to_sequences(['lower half']))])[0] #7\n",
    "for i in range(len(y)):\n",
    "    index = y.argmax()\n",
    "    print('Digit: %d,' %index, 'probability: %5.2e' %y[index])\n",
    "    y[index] = 0\n"
   ]
  },
  {
   "cell_type": "code",
   "execution_count": null,
   "metadata": {},
   "outputs": [],
   "source": []
  }
 ],
 "metadata": {
  "kernelspec": {
   "display_name": "Python (tf2130_py3100)",
   "language": "python",
   "name": "tf2130_py3100"
  },
  "language_info": {
   "codemirror_mode": {
    "name": "ipython",
    "version": 3
   },
   "file_extension": ".py",
   "mimetype": "text/x-python",
   "name": "python",
   "nbconvert_exporter": "python",
   "pygments_lexer": "ipython3",
   "version": "3.10.0"
  }
 },
 "nbformat": 4,
 "nbformat_minor": 2
}
