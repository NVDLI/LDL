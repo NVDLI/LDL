{
 "cells": [
  {
   "cell_type": "code",
   "execution_count": null,
   "metadata": {},
   "outputs": [],
   "source": [
    "\"\"\"\n",
    "The MIT License (MIT)\n",
    "Copyright (c) 2021 NVIDIA\n",
    "Permission is hereby granted, free of charge, to any person obtaining a copy of\n",
    "this software and associated documentation files (the \"Software\"), to deal in\n",
    "the Software without restriction, including without limitation the rights to\n",
    "use, copy, modify, merge, publish, distribute, sublicense, and/or sell copies of\n",
    "the Software, and to permit persons to whom the Software is furnished to do so,\n",
    "subject to the following conditions:\n",
    "The above copyright notice and this permission notice shall be included in all\n",
    "copies or substantial portions of the Software.\n",
    "THE SOFTWARE IS PROVIDED \"AS IS\", WITHOUT WARRANTY OF ANY KIND, EXPRESS OR\n",
    "IMPLIED, INCLUDING BUT NOT LIMITED TO THE WARRANTIES OF MERCHANTABILITY, FITNESS\n",
    "FOR A PARTICULAR PURPOSE AND NONINFRINGEMENT. IN NO EVENT SHALL THE AUTHORS OR\n",
    "COPYRIGHT HOLDERS BE LIABLE FOR ANY CLAIM, DAMAGES OR OTHER LIABILITY, WHETHER\n",
    "IN AN ACTION OF CONTRACT, TORT OR OTHERWISE, ARISING FROM, OUT OF OR IN\n",
    "CONNECTION WITH THE SOFTWARE OR THE USE OR OTHER DEALINGS IN THE SOFTWARE.\n",
    "\"\"\"\n"
   ]
  },
  {
   "cell_type": "markdown",
   "metadata": {},
   "source": [
    "This code example extends the multimodal network from c17e2_multi_modal with an additional head to build a network that does multitask learning using multimodal inputs. We teach the network to simultaneously do multiclass classification (identify the handwritten digit) and perform a simple question-answering task. The question-answering task is to provide a yes/no answer to a question about the digit in the image. The textual input will look similar to the textual input in c17e2_multi_modal ('upper half', 'lower half', 'odd number', 'even number'). However, instead of correctly describing the digit, the text is chosen randomly and represents a question. The network is then tasked with classifying the image into one of ten classes as well as with determining whether the answer to the question is yes or no (is the statement true or false). More context for this code example can be found in the section \"Programming Example: Multiclass classification and question answering with a single network\" in Chapter 17 in the book Learning Deep Learning by Magnus Ekman (ISBN: 9780137470358).\n",
    "\n",
    "As always, we start with initialization code and loading the dataset.\n"
   ]
  },
  {
   "cell_type": "code",
   "execution_count": null,
   "metadata": {},
   "outputs": [],
   "source": [
    "import tensorflow as tf\n",
    "from tensorflow import keras\n",
    "from tensorflow.keras.utils import to_categorical\n",
    "from tensorflow.keras.preprocessing.text import Tokenizer\n",
    "from tensorflow.keras.preprocessing.text \\\n",
    "    import text_to_word_sequence\n",
    "from tensorflow.keras.preprocessing.sequence \\\n",
    "    import pad_sequences\n",
    "from tensorflow.keras.layers import Input\n",
    "from tensorflow.keras.layers import Embedding\n",
    "from tensorflow.keras.layers import LSTM\n",
    "from tensorflow.keras.layers import Flatten\n",
    "from tensorflow.keras.layers import Concatenate\n",
    "from tensorflow.keras.layers import Dense\n",
    "from tensorflow.keras.models import Model\n",
    "import numpy as np\n",
    "import logging\n",
    "tf.get_logger().setLevel(logging.ERROR)\n",
    "\n",
    "EPOCHS = 20\n",
    "MAX_WORDS = 8\n",
    "EMBEDDING_WIDTH = 4\n",
    "\n",
    "# Load training and test datasets.\n",
    "mnist = keras.datasets.mnist\n",
    "(train_images, train_labels), (test_images,\n",
    "                               test_labels) = mnist.load_data()\n",
    "\n",
    "# Standardize the data.\n",
    "mean = np.mean(train_images)\n",
    "stddev = np.std(train_images)\n",
    "train_images = (train_images - mean) / stddev\n",
    "test_images = (test_images - mean) / stddev\n"
   ]
  },
  {
   "cell_type": "markdown",
   "metadata": {},
   "source": [
    "The next step is to extend the MNIST dataset with questions and answers. This is done in the next code snippet. The code alternates between the four questions/statements for each training and test example. It then determines whether the answer is yes or no based on the ground truth label.\n"
   ]
  },
  {
   "cell_type": "code",
   "execution_count": null,
   "metadata": {},
   "outputs": [],
   "source": [
    "# Function to create question and answer text.\n",
    "def create_question_answer(tokenizer, labels):\n",
    "    text = []\n",
    "    answers = np.zeros(len(labels))\n",
    "    for i, label in enumerate(labels):\n",
    "        question_num = i % 4\n",
    "        if question_num == 0:\n",
    "            text.append('lower half')\n",
    "            if label < 5:\n",
    "                answers[i] = 1.0\n",
    "        elif question_num == 1:\n",
    "            text.append('upper half')\n",
    "            if label >= 5:\n",
    "                answers[i] = 1.0\n",
    "        elif question_num == 2:\n",
    "            text.append('even number')\n",
    "            if label % 2 == 0:\n",
    "                answers[i] = 1.0\n",
    "        elif question_num == 3:\n",
    "            text.append('odd number')\n",
    "            if label % 2 == 1:\n",
    "                answers[i] = 1.0\n",
    "    text = tokenizer.texts_to_sequences(text)\n",
    "    text = pad_sequences(text)\n",
    "    return text, answers\n",
    "\n",
    "# Create second modality for training and test set.\n",
    "vocabulary = ['lower', 'upper', 'half', 'even', 'odd', 'number']\n",
    "tokenizer = Tokenizer(num_words=MAX_WORDS)\n",
    "tokenizer.fit_on_texts(vocabulary)\n",
    "train_text, train_answers = create_question_answer(tokenizer,\n",
    "                                                   train_labels)\n",
    "test_text, test_answers = create_question_answer(tokenizer,\n",
    "                                                 test_labels)\n"
   ]
  },
  {
   "cell_type": "markdown",
   "metadata": {},
   "source": [
    "The next code snippet creates the network. Most of the network is identical to the programming example for the multimodal network. The key difference is that in parallel with the ten-unit output layer for multiclass classification, there is a one-unit output layer for binary classification. Given that there are two separate outputs, we also need to supply two separate loss functions. In addition, we supply weights for these two loss functions to indicate how to weigh the two into a single loss function for training the network. The weights should be treated like any other hyperparameter. A reasonable starting point is to have the same weight for both losses, so we use 50/50. Finally, when calling the fit method, we must provide ground truth for both heads of the model.\n"
   ]
  },
  {
   "cell_type": "code",
   "execution_count": null,
   "metadata": {},
   "outputs": [],
   "source": [
    "# Create model with functional API.\n",
    "image_input = Input(shape=(28, 28))\n",
    "text_input = Input(shape=(2, ))\n",
    "\n",
    "# Declare layers.\n",
    "embedding_layer = Embedding(output_dim=EMBEDDING_WIDTH,\n",
    "                            input_dim = MAX_WORDS)\n",
    "lstm_layer = LSTM(8)\n",
    "flatten_layer = Flatten()\n",
    "concat_layer = Concatenate()\n",
    "dense_layer = Dense(25,activation='relu')\n",
    "class_output_layer = Dense(10, activation='softmax')\n",
    "answer_output_layer = Dense(1, activation='sigmoid')\n",
    "\n",
    "# Connect layers.\n",
    "embedding_output = embedding_layer(text_input)\n",
    "lstm_output = lstm_layer(embedding_output)\n",
    "flatten_output = flatten_layer(image_input)\n",
    "concat_output = concat_layer([lstm_output, flatten_output])\n",
    "dense_output = dense_layer(concat_output)\n",
    "class_outputs = class_output_layer(dense_output)\n",
    "answer_outputs = answer_output_layer(dense_output)\n",
    "\n",
    "# Build and train model.\n",
    "model = Model([image_input, text_input], [class_outputs,\n",
    "                                          answer_outputs])\n",
    "model.compile(loss=['sparse_categorical_crossentropy',\n",
    "                    'binary_crossentropy'], optimizer='adam',\n",
    "                    metrics=['accuracy', 'accuracy'],\n",
    "                    loss_weights = [0.5, 0.5])\n",
    "model.summary()\n",
    "history = model.fit([train_images, train_text],\n",
    "                    [train_labels, train_answers],\n",
    "                    validation_data=([test_images, test_text],\n",
    "                    [test_labels, test_answers]), epochs=EPOCHS,\n",
    "                    batch_size=64, verbose=2, shuffle=True)\n"
   ]
  },
  {
   "cell_type": "code",
   "execution_count": null,
   "metadata": {},
   "outputs": [],
   "source": []
  }
 ],
 "metadata": {
  "kernelspec": {
   "display_name": "Python 3 (ipykernel)",
   "language": "python",
   "name": "python3"
  },
  "language_info": {
   "codemirror_mode": {
    "name": "ipython",
    "version": 3
   },
   "file_extension": ".py",
   "mimetype": "text/x-python",
   "name": "python",
   "nbconvert_exporter": "python",
   "pygments_lexer": "ipython3",
   "version": "3.10.0"
  }
 },
 "nbformat": 4,
 "nbformat_minor": 4
}
