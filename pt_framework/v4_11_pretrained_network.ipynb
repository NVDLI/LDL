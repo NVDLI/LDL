{
 "cells": [
  {
   "cell_type": "code",
   "execution_count": null,
   "metadata": {},
   "outputs": [],
   "source": [
    "\"\"\"\n",
    "The MIT License (MIT)\n",
    "Copyright (c) 2021 NVIDIA\n",
    "Permission is hereby granted, free of charge, to any person obtaining a copy of\n",
    "this software and associated documentation files (the \"Software\"), to deal in\n",
    "the Software without restriction, including without limitation the rights to\n",
    "use, copy, modify, merge, publish, distribute, sublicense, and/or sell copies of\n",
    "the Software, and to permit persons to whom the Software is furnished to do so,\n",
    "subject to the following conditions:\n",
    "The above copyright notice and this permission notice shall be included in all\n",
    "copies or substantial portions of the Software.\n",
    "THE SOFTWARE IS PROVIDED \"AS IS\", WITHOUT WARRANTY OF ANY KIND, EXPRESS OR\n",
    "IMPLIED, INCLUDING BUT NOT LIMITED TO THE WARRANTIES OF MERCHANTABILITY, FITNESS\n",
    "FOR A PARTICULAR PURPOSE AND NONINFRINGEMENT. IN NO EVENT SHALL THE AUTHORS OR\n",
    "COPYRIGHT HOLDERS BE LIABLE FOR ANY CLAIM, DAMAGES OR OTHER LIABILITY, WHETHER\n",
    "IN AN ACTION OF CONTRACT, TORT OR OTHERWISE, ARISING FROM, OUT OF OR IN\n",
    "CONNECTION WITH THE SOFTWARE OR THE USE OR OTHER DEALINGS IN THE SOFTWARE.\n",
    "\"\"\"\n"
   ]
  },
  {
   "cell_type": "markdown",
   "metadata": {},
   "source": [
    "This code example demonstrates how to use a pre-trained residual network to solve an image classification problem, using a picture of a dog. More context for this code example can be found in video 4.11 \"Programming Example: Using a Pretrained Network with PyTorch\" in the video series \"Learning Deep Learning: From Perceptron to Large Language Models\" by Magnus Ekman (Video ISBN-13: 9780138177614).\n",
    "\n",
    "We start with a number of import statements."
   ]
  },
  {
   "cell_type": "code",
   "execution_count": null,
   "metadata": {},
   "outputs": [],
   "source": [
    "import torch\n",
    "import torchvision\n",
    "from torchvision import transforms\n",
    "from PIL import Image\n",
    "\n",
    "device = torch.device(\"cuda:0\" if torch.cuda.is_available() else \"cpu\")\n"
   ]
  },
  {
   "cell_type": "markdown",
   "metadata": {},
   "source": [
    "In the next code snippet we load the image and transform it to be suitable to feed into the pretrained network. The transformation involves normalizing, converting to tensor, and resizing. The parameters used in the normalization steps are the mean and standard deviation for each color channel from the training dataset that was used to train the pretrained model. These values are documented on pytorch.org.\n",
    "\n",
    "Finally, since the network expects an array of multiple images, so we add a fourth dimension using the unsqueeze() method.\n"
   ]
  },
  {
   "cell_type": "code",
   "execution_count": null,
   "metadata": {},
   "outputs": [],
   "source": [
    "# Load and preprocess image.\n",
    "image = Image.open('../data/dog.jpg')\n",
    "preprocess = transforms.Compose([\n",
    "    transforms.Resize((224, 224)),\n",
    "    transforms.ToTensor(),\n",
    "    transforms.Normalize(mean=[0.485, 0.456, 0.406], std=[0.229, 0.224, 0.225])\n",
    "]) # Parameters are documented at pytorch.org.\n",
    "input_tensor = preprocess(image)\n",
    "\n",
    "# Convert to 4-dimensional tensor.\n",
    "inputs = input_tensor.unsqueeze(0)\n"
   ]
  },
  {
   "cell_type": "markdown",
   "metadata": {},
   "source": [
    "The final code snippet starts with loading the pretrained ResNet-50 model. We put the model in evaluation mode since we will use it for inference and not training. We then move the model and the input image to the GPU (if present).\n",
    "\n",
    "We then do a prediction by calling the model with the image as input. By doing the call to a model inside the scope of a torch.no_grad() statement, PyTorch is told that it does not need to track information needed to automatically be able to calculate gradients for the model during this call. This reduces the amount of computation needed and makes the code snippet run faster. In this case when we only do a single call to the model it is not that important, but it can make a difference when doing inference for a large number of images.\n",
    "\n",
    "As we have previously seen, when implementing a model in PyTorch, the activation function for the final SoftMax layer is omitted since it is included in the PyTorch implementation of the cross-entropy loss function. However, that is only the case when using a model for training. When using a model for inference, we therefore need to run the outputs through a softmax function to convert the logits (weighted sums) to probabilities. This is done with a call to torch.nn.functiona.softmax().\n",
    "\n",
    "We sort the resulting probabilities with a call to torch.sort() which returns both the sorted values and the indices of their locations in the vector. We are interested in the indices (each index corresponds to an image category). We then print out the indices of the top five image categories, as well as their corresponding probabilities. The calls to item() converts the values from the PyTorch tensor datatype to a standard Python datatype.\n",
    "\n",
    "This program prints out only the class ID, and not the class names. To also print the class name you would need to add code to convert from class ID to class name using a look-up table. The mapping between class ID and class name is available for download in various formats from various sources. One good format is found here:\n",
    "https://gist.github.com/yrevar/942d3a0ac09ec9e5eb3a\n"
   ]
  },
  {
   "cell_type": "code",
   "execution_count": null,
   "metadata": {},
   "outputs": [],
   "source": [
    "# Load the pre-trained model.\n",
    "model = torchvision.models.resnet50(pretrained=True)\n",
    "model.eval()\n",
    "\n",
    "# Transfer model to GPU.\n",
    "model.to(device)\n",
    "\n",
    "# Do prediction.\n",
    "inputs = inputs.to(device)\n",
    "with torch.no_grad():\n",
    "    outputs = model(inputs)\n",
    "\n",
    "# Convert to probabilities, since final SoftMax activation is not in pretrained model.\n",
    "probabilities = torch.nn.functional.softmax(outputs[0], dim=0)\n",
    "\n",
    "# Print class ID for top 5 predictions.\n",
    "_, indices = torch.sort(probabilities, descending=True)\n",
    "for i in range(0, 5):\n",
    "    print('ImageNet class:', indices[i].item(), ', probability = %4.3f' % probabilities[indices[i]].item())\n",
    "\n",
    "# Show image.\n",
    "image.show()\n"
   ]
  },
  {
   "cell_type": "code",
   "execution_count": null,
   "metadata": {},
   "outputs": [],
   "source": []
  }
 ],
 "metadata": {
  "kernelspec": {
   "display_name": "Python (pt210_py3100)",
   "language": "python",
   "name": "pt210_py3100"
  },
  "language_info": {
   "codemirror_mode": {
    "name": "ipython",
    "version": 3
   },
   "file_extension": ".py",
   "mimetype": "text/x-python",
   "name": "python",
   "nbconvert_exporter": "python",
   "pygments_lexer": "ipython3",
   "version": "3.10.0"
  }
 },
 "nbformat": 4,
 "nbformat_minor": 2
}
